{
 "cells": [
  {
   "cell_type": "code",
   "execution_count": 1,
   "metadata": {},
   "outputs": [
    {
     "name": "stdout",
     "output_type": "stream",
     "text": [
      "Hi! I'm a Python script.\n"
     ]
    }
   ],
   "source": [
    "print(\"Hi! I'm a Python script.\")"
   ]
  },
  {
   "cell_type": "code",
   "execution_count": 2,
   "metadata": {},
   "outputs": [],
   "source": [
    "import pandas as pd\n",
    "from sqlalchemy import create_engine"
   ]
  },
  {
   "cell_type": "code",
   "execution_count": 3,
   "metadata": {},
   "outputs": [],
   "source": [
    "# Connect to Trino (adjust connection details as needed)\n",
    "engine = create_engine(\"trino://user@localhost:9090/memory\", connect_args={\"user\": \"user\"})"
   ]
  },
  {
   "cell_type": "code",
   "execution_count": 4,
   "metadata": {},
   "outputs": [],
   "source": [
    "# Create a df named taxi_df with fake data\n",
    "df = pd.DataFrame({\n",
    "    \"vendor_id\": [1, 2, 2, 1, 2],\n",
    "    \"pickup_datetime\": [\"2021-01-01 00:00:00\", \"2021-01-01 00:10:00\", \"2021-01-01 00:20:00\", \"2021-01-01 00:30:00\", \"2021-01-01 00:40:00\"],\n",
    "    \"dropoff_datetime\": [\"2021-01-01 00:00:00\", \"2021-01-01 00:10:00\", \"2021-01-01 00:20:00\", \"2021-01-01 00:30:00\", \"2021-01-01 00:40:00\"],\n",
    "    \"passenger_count\": [1, 2, 3, 4, 5],\n",
    "    \"trip_distance\": [1.0, 2.0, 3.0, 4.0, 5.0],\n",
    "    \"rate_code\": [1, 2, 3, 4, 5],\n",
    "    \"store_and_fwd_flag\": [True, False, True, False, True],\n",
    "    \"payment_type\": [\"credit\", \"cash\", \"credit\", \"cash\", \"credit\"],\n",
    "    \"fare_amount\": [10.0, 20.0, 30.0, 40.0, 50.0]\n",
    "})"
   ]
  },
  {
   "cell_type": "code",
   "execution_count": 5,
   "metadata": {},
   "outputs": [
    {
     "data": {
      "text/html": [
       "<div>\n",
       "<style scoped>\n",
       "    .dataframe tbody tr th:only-of-type {\n",
       "        vertical-align: middle;\n",
       "    }\n",
       "\n",
       "    .dataframe tbody tr th {\n",
       "        vertical-align: top;\n",
       "    }\n",
       "\n",
       "    .dataframe thead th {\n",
       "        text-align: right;\n",
       "    }\n",
       "</style>\n",
       "<table border=\"1\" class=\"dataframe\">\n",
       "  <thead>\n",
       "    <tr style=\"text-align: right;\">\n",
       "      <th></th>\n",
       "      <th>vendor_id</th>\n",
       "      <th>pickup_datetime</th>\n",
       "      <th>dropoff_datetime</th>\n",
       "      <th>passenger_count</th>\n",
       "      <th>trip_distance</th>\n",
       "      <th>rate_code</th>\n",
       "      <th>store_and_fwd_flag</th>\n",
       "      <th>payment_type</th>\n",
       "      <th>fare_amount</th>\n",
       "    </tr>\n",
       "  </thead>\n",
       "  <tbody>\n",
       "    <tr>\n",
       "      <th>0</th>\n",
       "      <td>1</td>\n",
       "      <td>2021-01-01 00:00:00</td>\n",
       "      <td>2021-01-01 00:00:00</td>\n",
       "      <td>1</td>\n",
       "      <td>1.0</td>\n",
       "      <td>1</td>\n",
       "      <td>True</td>\n",
       "      <td>credit</td>\n",
       "      <td>10.0</td>\n",
       "    </tr>\n",
       "    <tr>\n",
       "      <th>1</th>\n",
       "      <td>2</td>\n",
       "      <td>2021-01-01 00:10:00</td>\n",
       "      <td>2021-01-01 00:10:00</td>\n",
       "      <td>2</td>\n",
       "      <td>2.0</td>\n",
       "      <td>2</td>\n",
       "      <td>False</td>\n",
       "      <td>cash</td>\n",
       "      <td>20.0</td>\n",
       "    </tr>\n",
       "    <tr>\n",
       "      <th>2</th>\n",
       "      <td>2</td>\n",
       "      <td>2021-01-01 00:20:00</td>\n",
       "      <td>2021-01-01 00:20:00</td>\n",
       "      <td>3</td>\n",
       "      <td>3.0</td>\n",
       "      <td>3</td>\n",
       "      <td>True</td>\n",
       "      <td>credit</td>\n",
       "      <td>30.0</td>\n",
       "    </tr>\n",
       "    <tr>\n",
       "      <th>3</th>\n",
       "      <td>1</td>\n",
       "      <td>2021-01-01 00:30:00</td>\n",
       "      <td>2021-01-01 00:30:00</td>\n",
       "      <td>4</td>\n",
       "      <td>4.0</td>\n",
       "      <td>4</td>\n",
       "      <td>False</td>\n",
       "      <td>cash</td>\n",
       "      <td>40.0</td>\n",
       "    </tr>\n",
       "    <tr>\n",
       "      <th>4</th>\n",
       "      <td>2</td>\n",
       "      <td>2021-01-01 00:40:00</td>\n",
       "      <td>2021-01-01 00:40:00</td>\n",
       "      <td>5</td>\n",
       "      <td>5.0</td>\n",
       "      <td>5</td>\n",
       "      <td>True</td>\n",
       "      <td>credit</td>\n",
       "      <td>50.0</td>\n",
       "    </tr>\n",
       "  </tbody>\n",
       "</table>\n",
       "</div>"
      ],
      "text/plain": [
       "   vendor_id      pickup_datetime     dropoff_datetime  passenger_count  \\\n",
       "0          1  2021-01-01 00:00:00  2021-01-01 00:00:00                1   \n",
       "1          2  2021-01-01 00:10:00  2021-01-01 00:10:00                2   \n",
       "2          2  2021-01-01 00:20:00  2021-01-01 00:20:00                3   \n",
       "3          1  2021-01-01 00:30:00  2021-01-01 00:30:00                4   \n",
       "4          2  2021-01-01 00:40:00  2021-01-01 00:40:00                5   \n",
       "\n",
       "   trip_distance  rate_code  store_and_fwd_flag payment_type  fare_amount  \n",
       "0            1.0          1                True       credit         10.0  \n",
       "1            2.0          2               False         cash         20.0  \n",
       "2            3.0          3                True       credit         30.0  \n",
       "3            4.0          4               False         cash         40.0  \n",
       "4            5.0          5                True       credit         50.0  "
      ]
     },
     "execution_count": 5,
     "metadata": {},
     "output_type": "execute_result"
    }
   ],
   "source": [
    "df"
   ]
  },
  {
   "cell_type": "code",
   "execution_count": 6,
   "metadata": {},
   "outputs": [],
   "source": [
    "# Store the data in Trino (using the schema named “default”):\n",
    "df.to_sql(con=engine, name=\"taxi\", schema=\"default\", method=\"multi\", index=False)\n",
    "engine.dispose()"
   ]
  },
  {
   "cell_type": "code",
   "execution_count": 22,
   "metadata": {},
   "outputs": [
    {
     "name": "stdout",
     "output_type": "stream",
     "text": [
      "The sql extension is already loaded. To reload it, use:\n",
      "  %reload_ext sql\n"
     ]
    }
   ],
   "source": [
    "%load_ext sql"
   ]
  },
  {
   "cell_type": "code",
   "execution_count": 23,
   "metadata": {},
   "outputs": [],
   "source": [
    "%reload_ext sql\n",
    "%config SqlMagic.named_parameters=\"enabled\""
   ]
  },
  {
   "cell_type": "code",
   "execution_count": 24,
   "metadata": {},
   "outputs": [],
   "source": [
    "%sql trino://user@localhost:9090/memory"
   ]
  },
  {
   "cell_type": "code",
   "execution_count": 25,
   "metadata": {},
   "outputs": [
    {
     "data": {
      "text/html": [
       "<table>\n",
       "    <thead>\n",
       "        <tr>\n",
       "            <th>Name</th>\n",
       "        </tr>\n",
       "    </thead>\n",
       "    <tbody>\n",
       "        <tr>\n",
       "            <td>taxi</td>\n",
       "        </tr>\n",
       "    </tbody>\n",
       "</table>"
      ],
      "text/plain": [
       "+------+\n",
       "| Name |\n",
       "+------+\n",
       "| taxi |\n",
       "+------+"
      ]
     },
     "execution_count": 25,
     "metadata": {},
     "output_type": "execute_result"
    }
   ],
   "source": [
    "%sqlcmd tables --schema default"
   ]
  },
  {
   "cell_type": "code",
   "execution_count": 26,
   "metadata": {},
   "outputs": [
    {
     "data": {
      "text/html": [
       "<table>\n",
       "    <thead>\n",
       "        <tr>\n",
       "            <th>name</th>\n",
       "            <th>type</th>\n",
       "            <th>nullable</th>\n",
       "            <th>default</th>\n",
       "        </tr>\n",
       "    </thead>\n",
       "    <tbody>\n",
       "        <tr>\n",
       "            <td>vendor_id</td>\n",
       "            <td>BIGINT</td>\n",
       "            <td>True</td>\n",
       "            <td>None</td>\n",
       "        </tr>\n",
       "        <tr>\n",
       "            <td>pickup_datetime</td>\n",
       "            <td>VARCHAR</td>\n",
       "            <td>True</td>\n",
       "            <td>None</td>\n",
       "        </tr>\n",
       "        <tr>\n",
       "            <td>dropoff_datetime</td>\n",
       "            <td>VARCHAR</td>\n",
       "            <td>True</td>\n",
       "            <td>None</td>\n",
       "        </tr>\n",
       "        <tr>\n",
       "            <td>passenger_count</td>\n",
       "            <td>BIGINT</td>\n",
       "            <td>True</td>\n",
       "            <td>None</td>\n",
       "        </tr>\n",
       "        <tr>\n",
       "            <td>trip_distance</td>\n",
       "            <td>DOUBLE</td>\n",
       "            <td>True</td>\n",
       "            <td>None</td>\n",
       "        </tr>\n",
       "        <tr>\n",
       "            <td>rate_code</td>\n",
       "            <td>BIGINT</td>\n",
       "            <td>True</td>\n",
       "            <td>None</td>\n",
       "        </tr>\n",
       "        <tr>\n",
       "            <td>store_and_fwd_flag</td>\n",
       "            <td>BOOLEAN</td>\n",
       "            <td>True</td>\n",
       "            <td>None</td>\n",
       "        </tr>\n",
       "        <tr>\n",
       "            <td>payment_type</td>\n",
       "            <td>VARCHAR</td>\n",
       "            <td>True</td>\n",
       "            <td>None</td>\n",
       "        </tr>\n",
       "        <tr>\n",
       "            <td>fare_amount</td>\n",
       "            <td>DOUBLE</td>\n",
       "            <td>True</td>\n",
       "            <td>None</td>\n",
       "        </tr>\n",
       "    </tbody>\n",
       "</table>"
      ],
      "text/plain": [
       "+--------------------+---------+----------+---------+\n",
       "|        name        |   type  | nullable | default |\n",
       "+--------------------+---------+----------+---------+\n",
       "|     vendor_id      |  BIGINT |   True   |   None  |\n",
       "|  pickup_datetime   | VARCHAR |   True   |   None  |\n",
       "|  dropoff_datetime  | VARCHAR |   True   |   None  |\n",
       "|  passenger_count   |  BIGINT |   True   |   None  |\n",
       "|   trip_distance    |  DOUBLE |   True   |   None  |\n",
       "|     rate_code      |  BIGINT |   True   |   None  |\n",
       "| store_and_fwd_flag | BOOLEAN |   True   |   None  |\n",
       "|    payment_type    | VARCHAR |   True   |   None  |\n",
       "|    fare_amount     |  DOUBLE |   True   |   None  |\n",
       "+--------------------+---------+----------+---------+"
      ]
     },
     "execution_count": 26,
     "metadata": {},
     "output_type": "execute_result"
    }
   ],
   "source": [
    "%sqlcmd columns --table taxi --schema default"
   ]
  },
  {
   "cell_type": "code",
   "execution_count": 27,
   "metadata": {},
   "outputs": [
    {
     "data": {
      "text/html": [
       "<span style=\"None\">Running query in &#x27;trino://user@localhost:9090/memory&#x27;</span>"
      ],
      "text/plain": [
       "Running query in 'trino://user@localhost:9090/memory'"
      ]
     },
     "metadata": {},
     "output_type": "display_data"
    },
    {
     "data": {
      "text/html": [
       "<table>\n",
       "    <thead>\n",
       "        <tr>\n",
       "            <th>vendor_id</th>\n",
       "            <th>pickup_datetime</th>\n",
       "            <th>dropoff_datetime</th>\n",
       "            <th>passenger_count</th>\n",
       "            <th>trip_distance</th>\n",
       "            <th>rate_code</th>\n",
       "            <th>store_and_fwd_flag</th>\n",
       "            <th>payment_type</th>\n",
       "            <th>fare_amount</th>\n",
       "        </tr>\n",
       "    </thead>\n",
       "    <tbody>\n",
       "        <tr>\n",
       "            <td>1</td>\n",
       "            <td>2021-01-01 00:00:00</td>\n",
       "            <td>2021-01-01 00:00:00</td>\n",
       "            <td>1</td>\n",
       "            <td>1.0</td>\n",
       "            <td>1</td>\n",
       "            <td>True</td>\n",
       "            <td>credit</td>\n",
       "            <td>10.0</td>\n",
       "        </tr>\n",
       "        <tr>\n",
       "            <td>2</td>\n",
       "            <td>2021-01-01 00:10:00</td>\n",
       "            <td>2021-01-01 00:10:00</td>\n",
       "            <td>2</td>\n",
       "            <td>2.0</td>\n",
       "            <td>2</td>\n",
       "            <td>False</td>\n",
       "            <td>cash</td>\n",
       "            <td>20.0</td>\n",
       "        </tr>\n",
       "        <tr>\n",
       "            <td>2</td>\n",
       "            <td>2021-01-01 00:20:00</td>\n",
       "            <td>2021-01-01 00:20:00</td>\n",
       "            <td>3</td>\n",
       "            <td>3.0</td>\n",
       "            <td>3</td>\n",
       "            <td>True</td>\n",
       "            <td>credit</td>\n",
       "            <td>30.0</td>\n",
       "        </tr>\n",
       "        <tr>\n",
       "            <td>1</td>\n",
       "            <td>2021-01-01 00:30:00</td>\n",
       "            <td>2021-01-01 00:30:00</td>\n",
       "            <td>4</td>\n",
       "            <td>4.0</td>\n",
       "            <td>4</td>\n",
       "            <td>False</td>\n",
       "            <td>cash</td>\n",
       "            <td>40.0</td>\n",
       "        </tr>\n",
       "        <tr>\n",
       "            <td>2</td>\n",
       "            <td>2021-01-01 00:40:00</td>\n",
       "            <td>2021-01-01 00:40:00</td>\n",
       "            <td>5</td>\n",
       "            <td>5.0</td>\n",
       "            <td>5</td>\n",
       "            <td>True</td>\n",
       "            <td>credit</td>\n",
       "            <td>50.0</td>\n",
       "        </tr>\n",
       "    </tbody>\n",
       "</table>"
      ],
      "text/plain": [
       "+-----------+---------------------+---------------------+-----------------+---------------+-----------+--------------------+--------------+-------------+\n",
       "| vendor_id |   pickup_datetime   |   dropoff_datetime  | passenger_count | trip_distance | rate_code | store_and_fwd_flag | payment_type | fare_amount |\n",
       "+-----------+---------------------+---------------------+-----------------+---------------+-----------+--------------------+--------------+-------------+\n",
       "|     1     | 2021-01-01 00:00:00 | 2021-01-01 00:00:00 |        1        |      1.0      |     1     |        True        |    credit    |     10.0    |\n",
       "|     2     | 2021-01-01 00:10:00 | 2021-01-01 00:10:00 |        2        |      2.0      |     2     |       False        |     cash     |     20.0    |\n",
       "|     2     | 2021-01-01 00:20:00 | 2021-01-01 00:20:00 |        3        |      3.0      |     3     |        True        |    credit    |     30.0    |\n",
       "|     1     | 2021-01-01 00:30:00 | 2021-01-01 00:30:00 |        4        |      4.0      |     4     |       False        |     cash     |     40.0    |\n",
       "|     2     | 2021-01-01 00:40:00 | 2021-01-01 00:40:00 |        5        |      5.0      |     5     |        True        |    credit    |     50.0    |\n",
       "+-----------+---------------------+---------------------+-----------------+---------------+-----------+--------------------+--------------+-------------+"
      ]
     },
     "execution_count": 27,
     "metadata": {},
     "output_type": "execute_result"
    }
   ],
   "source": [
    "# Run a query to check the data\n",
    "%sql SELECT * FROM default.taxi"
   ]
  },
  {
   "cell_type": "code",
   "execution_count": 15,
   "metadata": {
    "vscode": {
     "languageId": "sql"
    }
   },
   "outputs": [
    {
     "data": {
      "text/html": [
       "<span style=\"None\">Running query in &#x27;trino://user@localhost:9090/memory&#x27;</span>"
      ],
      "text/plain": [
       "Running query in 'trino://user@localhost:9090/memory'"
      ]
     },
     "metadata": {},
     "output_type": "display_data"
    },
    {
     "data": {
      "text/html": [
       "<table>\n",
       "    <thead>\n",
       "        <tr>\n",
       "            <th>vendor_id</th>\n",
       "            <th>pickup_datetime</th>\n",
       "            <th>dropoff_datetime</th>\n",
       "            <th>passenger_count</th>\n",
       "            <th>trip_distance</th>\n",
       "            <th>rate_code</th>\n",
       "            <th>store_and_fwd_flag</th>\n",
       "            <th>payment_type</th>\n",
       "            <th>fare_amount</th>\n",
       "        </tr>\n",
       "    </thead>\n",
       "    <tbody>\n",
       "        <tr>\n",
       "            <td>1</td>\n",
       "            <td>2021-01-01 00:00:00</td>\n",
       "            <td>2021-01-01 00:00:00</td>\n",
       "            <td>1</td>\n",
       "            <td>1.0</td>\n",
       "            <td>1</td>\n",
       "            <td>True</td>\n",
       "            <td>credit</td>\n",
       "            <td>10.0</td>\n",
       "        </tr>\n",
       "        <tr>\n",
       "            <td>2</td>\n",
       "            <td>2021-01-01 00:20:00</td>\n",
       "            <td>2021-01-01 00:20:00</td>\n",
       "            <td>3</td>\n",
       "            <td>3.0</td>\n",
       "            <td>3</td>\n",
       "            <td>True</td>\n",
       "            <td>credit</td>\n",
       "            <td>30.0</td>\n",
       "        </tr>\n",
       "        <tr>\n",
       "            <td>2</td>\n",
       "            <td>2021-01-01 00:40:00</td>\n",
       "            <td>2021-01-01 00:40:00</td>\n",
       "            <td>5</td>\n",
       "            <td>5.0</td>\n",
       "            <td>5</td>\n",
       "            <td>True</td>\n",
       "            <td>credit</td>\n",
       "            <td>50.0</td>\n",
       "        </tr>\n",
       "    </tbody>\n",
       "</table>"
      ],
      "text/plain": [
       "+-----------+---------------------+---------------------+-----------------+---------------+-----------+--------------------+--------------+-------------+\n",
       "| vendor_id |   pickup_datetime   |   dropoff_datetime  | passenger_count | trip_distance | rate_code | store_and_fwd_flag | payment_type | fare_amount |\n",
       "+-----------+---------------------+---------------------+-----------------+---------------+-----------+--------------------+--------------+-------------+\n",
       "|     1     | 2021-01-01 00:00:00 | 2021-01-01 00:00:00 |        1        |      1.0      |     1     |        True        |    credit    |     10.0    |\n",
       "|     2     | 2021-01-01 00:20:00 | 2021-01-01 00:20:00 |        3        |      3.0      |     3     |        True        |    credit    |     30.0    |\n",
       "|     2     | 2021-01-01 00:40:00 | 2021-01-01 00:40:00 |        5        |      5.0      |     5     |        True        |    credit    |     50.0    |\n",
       "+-----------+---------------------+---------------------+-----------------+---------------+-----------+--------------------+--------------+-------------+"
      ]
     },
     "execution_count": 15,
     "metadata": {},
     "output_type": "execute_result"
    }
   ],
   "source": [
    "%sql SELECT * FROM default.taxi WHERE payment_type = 'credit'"
   ]
  },
  {
   "cell_type": "code",
   "execution_count": 30,
   "metadata": {},
   "outputs": [
    {
     "data": {
      "text/html": [
       "<span style=\"None\">Running query in &#x27;trino://user@localhost:9090/memory&#x27;</span>"
      ],
      "text/plain": [
       "Running query in 'trino://user@localhost:9090/memory'"
      ]
     },
     "metadata": {},
     "output_type": "display_data"
    },
    {
     "data": {
      "text/html": [
       "<table>\n",
       "    <thead>\n",
       "        <tr>\n",
       "            <th>vendor_id</th>\n",
       "            <th>pickup_datetime</th>\n",
       "            <th>dropoff_datetime</th>\n",
       "            <th>passenger_count</th>\n",
       "            <th>trip_distance</th>\n",
       "            <th>rate_code</th>\n",
       "            <th>store_and_fwd_flag</th>\n",
       "            <th>payment_type</th>\n",
       "            <th>fare_amount</th>\n",
       "        </tr>\n",
       "    </thead>\n",
       "    <tbody>\n",
       "        <tr>\n",
       "            <td>2</td>\n",
       "            <td>2021-01-01 00:10:00</td>\n",
       "            <td>2021-01-01 00:10:00</td>\n",
       "            <td>2</td>\n",
       "            <td>2.0</td>\n",
       "            <td>2</td>\n",
       "            <td>False</td>\n",
       "            <td>cash</td>\n",
       "            <td>20.0</td>\n",
       "        </tr>\n",
       "        <tr>\n",
       "            <td>1</td>\n",
       "            <td>2021-01-01 00:30:00</td>\n",
       "            <td>2021-01-01 00:30:00</td>\n",
       "            <td>4</td>\n",
       "            <td>4.0</td>\n",
       "            <td>4</td>\n",
       "            <td>False</td>\n",
       "            <td>cash</td>\n",
       "            <td>40.0</td>\n",
       "        </tr>\n",
       "    </tbody>\n",
       "</table>"
      ],
      "text/plain": [
       "+-----------+---------------------+---------------------+-----------------+---------------+-----------+--------------------+--------------+-------------+\n",
       "| vendor_id |   pickup_datetime   |   dropoff_datetime  | passenger_count | trip_distance | rate_code | store_and_fwd_flag | payment_type | fare_amount |\n",
       "+-----------+---------------------+---------------------+-----------------+---------------+-----------+--------------------+--------------+-------------+\n",
       "|     2     | 2021-01-01 00:10:00 | 2021-01-01 00:10:00 |        2        |      2.0      |     2     |       False        |     cash     |     20.0    |\n",
       "|     1     | 2021-01-01 00:30:00 | 2021-01-01 00:30:00 |        4        |      4.0      |     4     |       False        |     cash     |     40.0    |\n",
       "+-----------+---------------------+---------------------+-----------------+---------------+-----------+--------------------+--------------+-------------+"
      ]
     },
     "execution_count": 30,
     "metadata": {},
     "output_type": "execute_result"
    }
   ],
   "source": [
    "type_of_payment='cash'\n",
    "%sql SELECT * FROM default.taxi WHERE payment_type = :type_of_payment"
   ]
  },
  {
   "cell_type": "code",
   "execution_count": 32,
   "metadata": {
    "vscode": {
     "languageId": "sql"
    }
   },
   "outputs": [
    {
     "data": {
      "text/html": [
       "<span style=\"None\">Running query in &#x27;trino://user@localhost:9090/memory&#x27;</span>"
      ],
      "text/plain": [
       "Running query in 'trino://user@localhost:9090/memory'"
      ]
     },
     "metadata": {},
     "output_type": "display_data"
    },
    {
     "data": {
      "text/html": [
       "<table>\n",
       "    <thead>\n",
       "        <tr>\n",
       "            <th>vendor_id</th>\n",
       "            <th>pickup_datetime</th>\n",
       "            <th>dropoff_datetime</th>\n",
       "            <th>passenger_count</th>\n",
       "            <th>trip_distance</th>\n",
       "            <th>rate_code</th>\n",
       "            <th>store_and_fwd_flag</th>\n",
       "            <th>payment_type</th>\n",
       "            <th>fare_amount</th>\n",
       "        </tr>\n",
       "    </thead>\n",
       "    <tbody>\n",
       "        <tr>\n",
       "            <td>1</td>\n",
       "            <td>2021-01-01 00:00:00</td>\n",
       "            <td>2021-01-01 00:00:00</td>\n",
       "            <td>1</td>\n",
       "            <td>1.0</td>\n",
       "            <td>1</td>\n",
       "            <td>True</td>\n",
       "            <td>credit</td>\n",
       "            <td>10.0</td>\n",
       "        </tr>\n",
       "        <tr>\n",
       "            <td>2</td>\n",
       "            <td>2021-01-01 00:10:00</td>\n",
       "            <td>2021-01-01 00:10:00</td>\n",
       "            <td>2</td>\n",
       "            <td>2.0</td>\n",
       "            <td>2</td>\n",
       "            <td>False</td>\n",
       "            <td>cash</td>\n",
       "            <td>20.0</td>\n",
       "        </tr>\n",
       "    </tbody>\n",
       "</table>"
      ],
      "text/plain": [
       "+-----------+---------------------+---------------------+-----------------+---------------+-----------+--------------------+--------------+-------------+\n",
       "| vendor_id |   pickup_datetime   |   dropoff_datetime  | passenger_count | trip_distance | rate_code | store_and_fwd_flag | payment_type | fare_amount |\n",
       "+-----------+---------------------+---------------------+-----------------+---------------+-----------+--------------------+--------------+-------------+\n",
       "|     1     | 2021-01-01 00:00:00 | 2021-01-01 00:00:00 |        1        |      1.0      |     1     |        True        |    credit    |     10.0    |\n",
       "|     2     | 2021-01-01 00:10:00 | 2021-01-01 00:10:00 |        2        |      2.0      |     2     |       False        |     cash     |     20.0    |\n",
       "+-----------+---------------------+---------------------+-----------------+---------------+-----------+--------------------+--------------+-------------+"
      ]
     },
     "execution_count": 32,
     "metadata": {},
     "output_type": "execute_result"
    }
   ],
   "source": [
    "%%sql\n",
    "SELECT *\n",
    "FROM default.taxi\n",
    "LIMIT 2"
   ]
  },
  {
   "cell_type": "code",
   "execution_count": null,
   "metadata": {
    "vscode": {
     "languageId": "sql"
    }
   },
   "outputs": [],
   "source": []
  },
  {
   "cell_type": "code",
   "execution_count": null,
   "metadata": {
    "vscode": {
     "languageId": "sql"
    }
   },
   "outputs": [],
   "source": []
  }
 ],
 "metadata": {
  "kernelspec": {
   "display_name": "Python 3",
   "language": "python",
   "name": "python3"
  },
  "language_info": {
   "codemirror_mode": {
    "name": "ipython",
    "version": 3
   },
   "file_extension": ".py",
   "mimetype": "text/x-python",
   "name": "python",
   "nbconvert_exporter": "python",
   "pygments_lexer": "ipython3",
   "version": "3.10.13"
  }
 },
 "nbformat": 4,
 "nbformat_minor": 2
}
